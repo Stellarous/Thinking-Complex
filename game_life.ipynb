{
 "cells": [
  {
   "cell_type": "code",
   "execution_count": null,
   "metadata": {},
   "outputs": [],
   "source": [
    "import numpy as np\n",
    "import matplotlib.pyplot as plt \n",
    "import matplotlib.animation as animation"
   ]
  },
  {
   "cell_type": "code",
   "execution_count": null,
   "metadata": {},
   "outputs": [],
   "source": [
    "\n",
    "\n",
    "# setting up the values for the grid\n",
    "ON = 255\n",
    "OFF = 0\n",
    "vals = [ON, OFF]\n",
    "\n",
    "def randomGrid(N):\n",
    "    \"\"\"returns a grid of NxN random values\"\"\"\n",
    "    return np.random.choice(vals, N*N, p=[0.2, 0.8]).reshape(N, N)\n",
    "\n",
    "def update(frameNum, img, grid, N):\n",
    "    newGrid = grid.copy()\n",
    "    for i in range(N):\n",
    "        for j in range(N):\n",
    "            total = int((grid[i, (j-1)%N] + grid[i, (j+1)%N] +\n",
    "                         grid[(i-1)%N, j] + grid[(i+1)%N, j] +\n",
    "                         grid[(i-1)%N, (j-1)%N] + grid[(i-1)%N, (j+1)%N] +\n",
    "                         grid[(i+1)%N, (j-1)%N] + grid[(i+1)%N, (j+1)%N])/255)\n",
    "            if grid[i, j]  == ON:\n",
    "                if (total < 2) or (total > 3):\n",
    "                    newGrid[i, j] = OFF\n",
    "            else:\n",
    "                if total == 3:\n",
    "                    newGrid[i, j] = ON\n",
    "    img.set_data(newGrid)\n",
    "    grid[:] = newGrid[:]\n",
    "    return img,\n",
    "\n",
    "def main():\n",
    "    N = 100\n",
    "    updateInterval = 50\n",
    "    grid = randomGrid(N)\n",
    "    fig, ax = plt.subplots()\n",
    "    img = ax.imshow(grid, interpolation='nearest')\n",
    "    ani = animation.FuncAnimation(fig, update, fargs=(img, grid, N, ),\n",
    "                                  frames = 10,\n",
    "                                  interval=updateInterval,\n",
    "                                  save_count=50)\n",
    "    plt.show()\n",
    "\n",
    "if __name__ == '__main__':\n",
    "    main()\n"
   ]
  }
 ],
 "metadata": {
  "language_info": {
   "name": "python"
  }
 },
 "nbformat": 4,
 "nbformat_minor": 2
}
